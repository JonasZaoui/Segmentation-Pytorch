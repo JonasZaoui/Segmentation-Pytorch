{
  "nbformat": 4,
  "nbformat_minor": 0,
  "metadata": {
    "colab": {
      "name": "Unet.ipynb",
      "provenance": [],
      "toc_visible": true,
      "authorship_tag": "ABX9TyNuMJv4YJmxhxJ4yTyI/1ws",
      "include_colab_link": true
    },
    "kernelspec": {
      "name": "python3",
      "display_name": "Python 3"
    },
    "language_info": {
      "name": "python"
    }
  },
  "cells": [
    {
      "cell_type": "markdown",
      "metadata": {
        "id": "view-in-github",
        "colab_type": "text"
      },
      "source": [
        "<a href=\"https://colab.research.google.com/github/JonasZaoui/Segmentation-Pytorch/blob/main/Unet.ipynb\" target=\"_parent\"><img src=\"https://colab.research.google.com/assets/colab-badge.svg\" alt=\"Open In Colab\"/></a>"
      ]
    },
    {
      "cell_type": "code",
      "execution_count": null,
      "metadata": {
        "id": "GnVjOvJTHCuZ"
      },
      "outputs": [],
      "source": [
        "import torch\n",
        "import torch.nn as nn\n",
        "import torchvision.transforms.functional as TF\n",
        "\n",
        "class DoubleConv(nn.Module): #Creation de la classe DoubleConvo  (=2 fleches bleus) \n",
        "    def __init__(self, in_channels, out_channels): \n",
        "        super(DoubleConv, self).__init__()\n",
        "        self.conv = nn.Sequential(\n",
        "            nn.Conv2d(in_channels, out_channels, 3, 1, 1, bias=False), #premiere convolution\n",
        "            nn.BatchNorm2d(out_channels), #rajout, mais n'existait pas a l'epoque du paper\n",
        "            nn.ReLU(inplace=True), # 1 ere relu\n",
        "            nn.Conv2d(out_channels, out_channels, 3, 1, 1, bias=False), #2e convolution\n",
        "            nn.BatchNorm2d(out_channels),\n",
        "            nn.ReLU(inplace=True), #2e relu\n",
        "        )\n",
        "\n",
        "    def forward(self, x):\n",
        "        return self.conv(x) #on applique à x la self.conv = double convolution\n",
        "\n",
        "class UNET(nn.Module):\n",
        "    def __init__( #on ecrit les elements qui nous serviront pour le forward \n",
        "            self, in_channels=3, out_channels=1, features=[64, 128, 256, 512],\n",
        "    ):\n",
        "        super(UNET, self).__init__()\n",
        "        self.ups = nn.ModuleList() #liste des couches montantes \n",
        "        self.downs = nn.ModuleList() #liste des couches descendantes \n",
        "        self.pool = nn.MaxPool2d(kernel_size=2, stride=2) #pooling appliqué \n",
        "\n",
        "        # Down part of UNET\n",
        "        for feature in features:\n",
        "            self.downs.append(DoubleConv(in_channels, feature)) #on rajoute a la liste descendante une double convolution ; \n",
        "            in_channels = feature # l'input prochaine est l'output d'avant\n",
        "\n",
        "        # Up part of UNET\n",
        "        for feature in reversed(features): \n",
        "            self.ups.append(\n",
        "                nn.ConvTranspose2d( #fleche verte de l'architecture\n",
        "                    feature*2, feature, kernel_size=2, stride=2,\n",
        "                )\n",
        "            )\n",
        "            self.ups.append(DoubleConv(feature*2, feature))\n",
        "\n",
        "        self.bottleneck = DoubleConv(features[-1], features[-1]*2) #derniere couche en bas\n",
        "        self.final_conv = nn.Conv2d(features[0], out_channels, kernel_size=1) #fleche turquoise, conv 1x1\n",
        "\n",
        "    def forward(self, x): #x = feature de depart \n",
        "        skip_connections = []\n",
        "\n",
        "        for down in self.downs: #down = DoubleConv(in_channels,feature)\n",
        "            x = down(x) #j'applique une doubleconv sur l'output de la doubleconv d'avant. \n",
        "            skip_connections.append(x)\n",
        "            x = self.pool(x)\n",
        "\n",
        "        x = self.bottleneck(x) #derniere ligne : le goulot. \n",
        "        skip_connections = skip_connections[::-1] #on renverse, car on a besoin des features a l'envers \n",
        "\n",
        "        for idx in range(0, len(self.ups), 2): #par pas de 2 car dans la liste self.ups=[transposeconv, doubleconv, transposeconv, doubleconv....]\n",
        "            x = self.ups[idx](x)\n",
        "            skip_connection = skip_connections[idx//2] #on recupere la skip connection de la partie descendante\n",
        "\n",
        "            if x.shape != skip_connection.shape:\n",
        "                x = TF.resize(x, size=skip_connection.shape[2:]) \n",
        "\n",
        "            concat_skip = torch.cat((skip_connection, x), dim=1) #on les concatene\n",
        "            x = self.ups[idx+1](concat_skip) #on fait une double conv\n",
        "\n",
        "        return self.final_conv(x)\n",
        "\n",
        "def test():\n",
        "    x = torch.randn((3, 1, 161, 161))\n",
        "    model = UNET(in_channels=1, out_channels=1)\n",
        "    preds = model(x)\n",
        "    assert preds.shape == x.shape\n",
        "\n",
        "if __name__ == \"__main__\":\n",
        "    test()"
      ]
    },
    {
      "cell_type": "code",
      "source": [
        "import os\n",
        "from PIL import Image\n",
        "from torch.utils.data import Dataset\n",
        "import numpy as np\n",
        "\n",
        "class CarvanaDataset(Dataset):\n",
        "    def __init__(self, image_dir, mask_dir, transform=None):\n",
        "        self.image_dir = image_dir #dir du train ou du test set\n",
        "        self.mask_dir = mask_dir \n",
        "        self.transform = transform\n",
        "        self.images = os.listdir(image_dir) #liste des images \n",
        "\n",
        "    def __len__(self):\n",
        "        return len(self.images)\n",
        "\n",
        "    def __getitem__(self, index):\n",
        "        img_path = os.path.join(self.image_dir, self.images[index])\n",
        "        mask_path = os.path.join(self.mask_dir, self.images[index].replace(\".jpg\", \"_mask.gif\"))\n",
        "        image = np.array(Image.open(img_path).convert(\"RGB\"))\n",
        "        mask = np.array(Image.open(mask_path).convert(\"L\"), dtype=np.float32)\n",
        "        mask[mask == 255.0] = 1.0\n",
        "\n",
        "        if self.transform is not None:\n",
        "            augmentations = self.transform(image=image, mask=mask)\n",
        "            image = augmentations[\"image\"]\n",
        "            mask = augmentations[\"mask\"]\n",
        "\n",
        "        return image, mask\n",
        "\n",
        "\n"
      ],
      "metadata": {
        "id": "wyISU2vDHF2y"
      },
      "execution_count": null,
      "outputs": []
    }
  ]
}